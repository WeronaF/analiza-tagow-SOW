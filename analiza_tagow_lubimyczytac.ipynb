{
  "nbformat": 4,
  "nbformat_minor": 0,
  "metadata": {
    "colab": {
      "name": "analiza_tagow_lubimyczytac.ipynb",
      "provenance": [],
      "collapsed_sections": [
        "9_SPMOPLffPx",
        "qpstYH_pfU81",
        "CtwfQsyX3Lrx",
        "xZ2Z6kRU8x3D",
        "U15kpmeKrD5I",
        "zKjPwB3Ihj97"
      ],
      "authorship_tag": "ABX9TyMzi8KI/gCjBk3C/NssVeZU",
      "include_colab_link": true
    },
    "kernelspec": {
      "name": "python3",
      "display_name": "Python 3"
    },
    "language_info": {
      "name": "python"
    }
  },
  "cells": [
    {
      "cell_type": "markdown",
      "metadata": {
        "id": "view-in-github",
        "colab_type": "text"
      },
      "source": [
        "<a href=\"https://colab.research.google.com/github/WeronaF/analiza-tagow-SOW/blob/main/analiza_tagow_lubimyczytac.ipynb\" target=\"_parent\"><img src=\"https://colab.research.google.com/assets/colab-badge.svg\" alt=\"Open In Colab\"/></a>"
      ]
    },
    {
      "cell_type": "code",
      "source": [
        "import pandas as pd\n",
        "import regex as re\n",
        "from collections import Counter\n",
        "from itertools import chain\n",
        "import matplotlib.pyplot as plt\n",
        "\n",
        "from IPython.core.interactiveshell import InteractiveShell\n",
        "InteractiveShell.ast_node_interactivity = \"all\" "
      ],
      "metadata": {
        "id": "iDc1gAIv5l_-"
      },
      "execution_count": null,
      "outputs": []
    },
    {
      "cell_type": "code",
      "source": [
        "data = \"/content/sci-fi-data.csv\" #plik z danymi głównymi\n",
        "data_refined = \"/content/sci-fi-refined.csv\" #plik z danymi po edycji w OpenRefine\n",
        "kategoryzacja = pd.read_csv(\"/content/sci-fi-kategoryzacja.csv\")\n",
        "\n",
        "df_main = pd.read_csv(data)\n",
        "df_refined = pd.read_csv(data_refined)"
      ],
      "metadata": {
        "id": "47BDzcQbTy_d"
      },
      "execution_count": null,
      "outputs": []
    },
    {
      "cell_type": "code",
      "source": [
        "!mkdir wykresy\n",
        "!mkdir data-csv"
      ],
      "metadata": {
        "id": "mmhOMVhqevZR"
      },
      "execution_count": null,
      "outputs": []
    },
    {
      "cell_type": "markdown",
      "source": [
        "# Dane podstawowe"
      ],
      "metadata": {
        "id": "9_SPMOPLffPx"
      }
    },
    {
      "cell_type": "markdown",
      "source": [
        "Liczba pustych rekordów"
      ],
      "metadata": {
        "id": "abLTLv_O30ct"
      }
    },
    {
      "cell_type": "code",
      "source": [
        "nan_values = df_main[\"tagi\"].isna().value_counts()\n",
        "indexo = ('Książki z tagami', 'Książki bez tagów')\n",
        "nan_values.index = indexo\n",
        "nan_values"
      ],
      "metadata": {
        "id": "_KxctxWabLJN"
      },
      "execution_count": null,
      "outputs": []
    },
    {
      "cell_type": "markdown",
      "source": [
        "Wykres liczby książek z tagami i bez"
      ],
      "metadata": {
        "id": "NbVuwyPKf3az"
      }
    },
    {
      "cell_type": "code",
      "source": [
        "nan_values.plot.bar(color = 'black', figsize = (10,5))\n",
        "plt.xticks(rotation = 0, fontsize = 20)\n",
        "plt.yticks(fontsize = 20)\n",
        "\n",
        "for index, value in enumerate(nan_values):\n",
        "  if value !=10:\n",
        "    plt.text(index - 0.07, value + 1, str(int(value/nan_values.sum()*100)) + '%', fontsize = 20)\n",
        "\n",
        "plt.savefig(\"/content/wykresy/ilosc_ksiazek_z_tagami.png\", transparent = True, bbox_inches = 'tight')"
      ],
      "metadata": {
        "id": "w8N6uqCYfuWh"
      },
      "execution_count": null,
      "outputs": []
    },
    {
      "cell_type": "markdown",
      "source": [
        "Funkcja do dodawania liczba nad słupkami w matplotlib.\n",
        "* zbior - zmienna, z której tworzymy wykres\n",
        "* wartosc1 - manipuluje ustawieniem liczb jednocyfrowych\n",
        "* wartosc2 - manipuluje ustawieniem liczb dwucyfrowych\n",
        "* wartosc3 - manipuluje ustawieniem liczb trzycyfrowych"
      ],
      "metadata": {
        "id": "UOsomwzZp5aD"
      }
    },
    {
      "cell_type": "code",
      "source": [
        "def liczby_nad_slupkami(zbior, wartosc1, wartosc2, wartosc3, font):\n",
        "  for index, value in enumerate(zbior):\n",
        "    if value < 10:\n",
        "      index = index - wartosc1\n",
        "    elif value > 99:\n",
        "      index = index - wartosc3\n",
        "    else:\n",
        "      index = index - wartosc2\n",
        "    plt.text(index, value + 0.2, str(value), fontsize = font)"
      ],
      "metadata": {
        "id": "r9UA2kxeoier"
      },
      "execution_count": null,
      "outputs": []
    },
    {
      "cell_type": "markdown",
      "source": [
        "Wykres top 5 autorów"
      ],
      "metadata": {
        "id": "UHZWhmh-mAgj"
      }
    },
    {
      "cell_type": "code",
      "source": [
        "autorzy = df_main['autor'].value_counts().head(5)\n",
        "\n",
        "autorzy.plot.bar(color = 'black', figsize = (10,5))\n",
        "plt.xticks(fontsize = 20)\n",
        "plt.yticks(fontsize = 20)\n",
        "\n",
        "liczby_nad_slupkami(autorzy, 0.1, 0.18, 0, 16)\n",
        "plt.title(\"Top 5 autorów w zbiorze według liczby książek \\n\", fontsize = 16)"
      ],
      "metadata": {
        "id": "-w5_lpTapiEZ"
      },
      "execution_count": null,
      "outputs": []
    },
    {
      "cell_type": "markdown",
      "source": [
        "Rozkład ilościowy tagów po rozdzieleniu wartości przez *przecinek*/odpowiedni separator"
      ],
      "metadata": {
        "id": "_ocn8hkb4Lgh"
      }
    },
    {
      "cell_type": "code",
      "source": [
        "separator_main = ',\\s+' # w razie potrzeby zmiana jedynie znaku separatora, \"\\s\" zostawiamy\n",
        "tagi_counts_list = df_main[\"tagi\"].str.split(separator_main, expand=True).stack()\n",
        "\n",
        "liczba_tagow = pd.DataFrame(tagi_counts_list.value_counts(), columns = [\"liczba wystąpień\"])\n",
        "liczba_tagow"
      ],
      "metadata": {
        "id": "G0thpjLmaD-M"
      },
      "execution_count": null,
      "outputs": []
    },
    {
      "cell_type": "code",
      "source": [
        "# Jeśli chcemy zapisać sobie plik z ilością wystąpień danego tagu w biorze to uruchamiamy kod poniżej. Zapisanie w dokumencie csv.\n",
        "\n",
        "liczba_tagow.to_csv('/content/data-csv/liczba_tagow.csv')"
      ],
      "metadata": {
        "id": "F9I9uGshlHTx"
      },
      "execution_count": null,
      "outputs": []
    },
    {
      "cell_type": "markdown",
      "source": [
        "# Dane podstawowe- zbiór refined "
      ],
      "metadata": {
        "id": "qpstYH_pfU81"
      }
    },
    {
      "cell_type": "code",
      "source": [
        "kolumna_z_tagami_refined = \"Index keywords\" #nazwa kolumny z tagami w zbiorze refined\n",
        "separator_refined = \";\\s\" # w razie potrzeby zmiana jedynie separatora, \"\\s\" zostawiamy\n",
        "\n",
        "df_refined[kolumna_z_tagami_refined].isna().value_counts()\n",
        "tagi_counts_refined = df_refined[kolumna_z_tagami_refined].str.split(separator_refined, expand=True).stack().value_counts()\n",
        "\n",
        "liczba_tagow_refined = pd.DataFrame(tagi_counts_refined, columns = [\"liczba wystąpień\"])\n",
        "liczba_tagow_refined"
      ],
      "metadata": {
        "id": "8QCC0isGfeJN"
      },
      "execution_count": null,
      "outputs": []
    },
    {
      "cell_type": "markdown",
      "source": [
        "# Jaki jest rozkład ilościowy tagów w danym zbiorze?"
      ],
      "metadata": {
        "id": "JhS238KbN9VI"
      }
    },
    {
      "cell_type": "markdown",
      "source": [
        "Wykres dla tagów df_main"
      ],
      "metadata": {
        "id": "jycUrTXGl8Gw"
      }
    },
    {
      "cell_type": "code",
      "source": [
        "# creating a mask dla tagów, które wystąpiły więcej niż 1 raz\n",
        "\n",
        "wystapienia = liczba_tagow[\"liczba wystąpień\"] > 1\n",
        "wystapienia_plot = liczba_tagow[wystapienia]\n",
        "\n",
        "wystapienia_plot.plot.bar(width =0.6,\n",
        "                           figsize = (16,6),\n",
        "                           color = 'black',\n",
        "                           alpha = 0.7,\n",
        "                           ylabel = \"liczba wystapien\",\n",
        "                           fontsize = 16)\n",
        "plt.title(label = \"Liczba wystąpień tagów wśród książek z kategorii science fiction \\n\", fontsize= 20)\n",
        "\n",
        "plt.savefig('/content/wykresy/liczba-wystapien-tagow.png', transparent = True, bbox_inches = \"tight\")"
      ],
      "metadata": {
        "id": "XohFYCcylGBx"
      },
      "execution_count": null,
      "outputs": []
    },
    {
      "cell_type": "markdown",
      "source": [
        "Top 5 tagów"
      ],
      "metadata": {
        "id": "8ICDnsQJnHCs"
      }
    },
    {
      "cell_type": "code",
      "source": [
        "wystapienia = liczba_tagow[\"liczba wystąpień\"] > 1\n",
        "wystapienia_plot = liczba_tagow[wystapienia].head(5)\n",
        "\n",
        "wykres_wystapien = wystapienia_plot.plot.bar(width =0.6,\n",
        "                           figsize = (16,6),\n",
        "                           color = 'black',\n",
        "                           alpha = 0.7,\n",
        "                           ylabel = \"liczba wystapien\",\n",
        "                           fontsize = 16)\n",
        "plt.title(label = \"/content/wykresy/Liczba wystąpień tagów wśród książek z kategorii science fiction \\n\", fontsize= 20)\n",
        "\n",
        "plt.savefig('/content/wykresy/liczba-wystapien-tagow-top5.png', transparent = True, bbox_inches = \"tight\"  )"
      ],
      "metadata": {
        "id": "eOjThWF8nKLN"
      },
      "execution_count": null,
      "outputs": []
    },
    {
      "cell_type": "markdown",
      "source": [
        "Wykres dla tagów df_refined"
      ],
      "metadata": {
        "id": "lfyX5KtjmCqV"
      }
    },
    {
      "cell_type": "code",
      "source": [
        "wystapienia_refined = liczba_tagow_refined[\"liczba wystąpień\"] > 1\n",
        "wystapienia_plot_refined = liczba_tagow_refined[wystapienia_refined]\n",
        "\n",
        "wykres_wystapien_refined = wystapienia_plot_refined.plot.bar(width =0.6,\n",
        "                           figsize = (16,6),\n",
        "                           color = 'black',\n",
        "                           alpha = 0.7,\n",
        "                           ylabel = \"liczba wystapien\",\n",
        "                           fontsize = 16)\n",
        "plt.title(label = \"Liczba wystąpień tagów wśród książek z kategorii science fiction - po ujednoliceniu \\n\", fontsize= 20)\n",
        "\n",
        "plt.savefig('/content/wykresy/liczba-wystapien-tagow-refined.png', transparent = True, bbox_inches = \"tight\"  )"
      ],
      "metadata": {
        "id": "bnR-Unt-3iEi"
      },
      "execution_count": null,
      "outputs": []
    },
    {
      "cell_type": "markdown",
      "source": [
        "Top 5 unikatowych tagów"
      ],
      "metadata": {
        "id": "anDp0CQQnUx6"
      }
    },
    {
      "cell_type": "code",
      "source": [
        "wystapienia_refined = liczba_tagow_refined[\"liczba wystąpień\"] > 1\n",
        "wystapienia_plot_refined = liczba_tagow_refined[wystapienia_refined].head(5)\n",
        "\n",
        "wystapienia_plot_refined.plot.bar(width =0.6,\n",
        "                           figsize = (16,6),\n",
        "                           color = 'black',\n",
        "                           alpha = 0.7,\n",
        "                           ylabel = \"liczba wystapien\",\n",
        "                           fontsize = 16)\n",
        "plt.title(label = \"Liczba wystąpień tagów wśród książek z kategorii science fiction - po ujednoliceniu \\n\", fontsize= 20)\n",
        "\n",
        "plt.savefig('/content/wykresy/liczba-wystapien-tagow-refined-top5.png', transparent = True, bbox_inches = \"tight\")\n"
      ],
      "metadata": {
        "id": "TkMxp3zWnW_n"
      },
      "execution_count": null,
      "outputs": []
    },
    {
      "cell_type": "markdown",
      "source": [
        "# Kategoryzacja"
      ],
      "metadata": {
        "id": "CtwfQsyX3Lrx"
      }
    },
    {
      "cell_type": "code",
      "source": [
        "kategoryzacja"
      ],
      "metadata": {
        "id": "qA5v1ctCDwDy"
      },
      "execution_count": null,
      "outputs": []
    },
    {
      "cell_type": "markdown",
      "source": [
        "Tworzenie kolumny *kategorie tagów* w df_main"
      ],
      "metadata": {
        "id": "NUM7Am9EceNT"
      }
    },
    {
      "cell_type": "code",
      "source": [
        "frazy = kategoryzacja['tag']\n",
        "kategorie = kategoryzacja['kategoria']\n",
        "dict_cat = dict(zip(frazy, kategorie))\n",
        "\n",
        "categories = []\n",
        "\n",
        "for tag in df_main['tagi']:\n",
        "  tag = str(tag).split(', ')\n",
        "  category = []\n",
        "  for fraza, rodzaj in dict_cat.items():\n",
        "    for tago in tag:\n",
        "      if tago == fraza:\n",
        "        category.append(rodzaj)\n",
        "      elif tago == 'nan':\n",
        "        category.clear()\n",
        "  categories.append(category)\n",
        "\n",
        "\n",
        "categories = [str(s).replace('[', '') for s in categories]\n",
        "categories = [str(s).replace(']', '') for s in categories]\n",
        "categories = [str(s).replace(\"'\", '') for s in categories]\n",
        "\n",
        "df_main['kategorie tagów'] = categories\n",
        "df_main"
      ],
      "metadata": {
        "id": "JuAj90xLBPQy"
      },
      "execution_count": null,
      "outputs": []
    },
    {
      "cell_type": "markdown",
      "source": [
        "Ile tagów zawiera każada z występujących kategorii? - **tagi ogólnie**"
      ],
      "metadata": {
        "id": "xR4b_J2nTwtZ"
      }
    },
    {
      "cell_type": "code",
      "source": [
        "tagi_kategorie = df_main['kategorie tagów'].str.split(', ', expand=True).stack().value_counts()\n",
        "\n",
        "tagi_kategorie.plot.bar(figsize = (15, 10),\n",
        "                    width = 0.8,\n",
        "                    color = 'black')\n",
        "plt.xticks(rotation = 90, fontsize = 20)\n",
        "plt.yticks(fontsize = 20)\n",
        "liczby_nad_slupkami(tagi_kategorie, 0.1, 0.18, 0.18, 21)\n",
        "plt.title(label = \"Liczba tagów przypisana do kategorii \\n\", fontsize= 30)\n",
        "\n",
        "plt.savefig('liczba-tagow-na-kategorie.png', transparent = True, bbox_inches = \"tight\")"
      ],
      "metadata": {
        "id": "oFNnPaw-MTrI"
      },
      "execution_count": null,
      "outputs": []
    },
    {
      "cell_type": "markdown",
      "source": [
        "Ile tagów zawiera każada z występujących kategorii? - **tagi unikatowe**"
      ],
      "metadata": {
        "id": "iG5hxGzfjDPX"
      }
    },
    {
      "cell_type": "code",
      "source": [
        "wyniki_kat = kategorie.value_counts()\n",
        "\n",
        "nazwy_kategorii = [values for values,key in wyniki_kat.items()]\n",
        "\n",
        "wyniki_kat.plot.bar(figsize = (15, 10),\n",
        "                    width = 0.8,\n",
        "                    color = 'black')\n",
        "plt.xticks(rotation = 90, fontsize = 20)\n",
        "plt.yticks(fontsize = 20)\n",
        "liczby_nad_slupkami(wyniki_kat, 0.1, 0.18, 0.18, 21) #dodawanie liczb nad słupkami z funkcji\n",
        "plt.title(label = \"Liczba unikatowych tagów przypisana do kategorii \\n\", fontsize= 30)\n",
        "\n",
        "plt.savefig('liczba-tagow-unikatowych-na-kategorie.png', transparent = True, bbox_inches = \"tight\"  )"
      ],
      "metadata": {
        "id": "BgSO254w3jv2"
      },
      "execution_count": null,
      "outputs": []
    },
    {
      "cell_type": "markdown",
      "source": [
        "Jakie tagi należą do danej kategorii?"
      ],
      "metadata": {
        "id": "rYZu-wbpiyt0"
      }
    },
    {
      "cell_type": "code",
      "source": [
        "for nazwa in nazwy_kategorii:\n",
        "  warunek = kategoryzacja[\"kategoria\"] == nazwa\n",
        "  lista = [osoba for osoba in kategoryzacja[warunek][\"tag\"]]\n",
        "  print(nazwa, \"\\n\", lista)"
      ],
      "metadata": {
        "id": "N2idDe4F-cmX"
      },
      "execution_count": null,
      "outputs": []
    },
    {
      "cell_type": "markdown",
      "source": [
        "# Jaka jest średnia liczba tagów na książkę?"
      ],
      "metadata": {
        "id": "xZ2Z6kRU8x3D"
      }
    },
    {
      "cell_type": "code",
      "source": [
        "df_main['liczba tagów'] = [len(teksto.split(', ')) if len(teksto) != 0 else 0 for teksto in df_main['kategorie tagów']]\n",
        "\n",
        "df_main.head(10)\n",
        "df_main.to_csv('/content/data-csv/maindata.csv')"
      ],
      "metadata": {
        "id": "k3GXZgnS7EcI"
      },
      "execution_count": null,
      "outputs": []
    },
    {
      "cell_type": "markdown",
      "source": [
        "Wykres - wszystkie książki ze zbioru"
      ],
      "metadata": {
        "id": "btN77YDbqm-Q"
      }
    },
    {
      "cell_type": "code",
      "source": [
        "wykres_liczba_tagow  = pd.DataFrame(df_main['liczba tagów']).set_index(df_main[\"tytuł\"])\n",
        "\n",
        "wykres_liczba_tagow.plot.bar(figsize = (40, 20),\n",
        "                             width = 0.8,\n",
        "                             color = 'black',\n",
        "                             alpha = 0.7)\n",
        "plt.xticks(rotation = 90, fontsize = 20)\n",
        "plt.yticks(fontsize = 25)\n",
        "plt.title(label = \"Liczba tagów przypisana do książki \\n\", fontsize= 40)\n",
        "liczby_nad_slupkami(wykres_liczba_tagow['liczba tagów'], 0.1, 0.2, 0, 25)\n",
        "\n",
        "#średnia i linia średniej na wykresie\n",
        "srednia_tagow_sci_fi = df_main['liczba tagów'].mean()\n",
        "plt.axhline(y = srednia_tagow_sci_fi, color='r', linestyle= '--', lw = 5)\n",
        "\n",
        "\n",
        "plt.savefig('/content/wykresy/liczba-tagow-na-ksiazke.png', transparent = True, bbox_inches = \"tight\")\n"
      ],
      "metadata": {
        "id": "cu7FoI61zPzd"
      },
      "execution_count": null,
      "outputs": []
    },
    {
      "cell_type": "markdown",
      "source": [
        "Wykres - tylko książki z tagami"
      ],
      "metadata": {
        "id": "lgNWrQuSqicZ"
      }
    },
    {
      "cell_type": "code",
      "source": [
        "warunek_tagi = wykres_liczba_tagow['liczba tagów'] > 0\n",
        "z_tagami = pd.DataFrame(wykres_liczba_tagow[warunek_tagi])\n",
        "\n",
        "z_tagami.plot.bar(figsize = (35, 10),\n",
        "                  width = 0.8,\n",
        "                  color = 'black',\n",
        "                  alpha = 0.7)\n",
        "plt.xticks(rotation = 90, fontsize = 20)\n",
        "plt.yticks(fontsize = 25)\n",
        "plt.title(label = \"Liczba tagów wśród książek z tagami \\n\", fontsize= 40)\n",
        "liczby_nad_slupkami(z_tagami['liczba tagów'], 0.1, 0.2, 0, 25)\n",
        "\n",
        "#średnia i linia średniej na wykresie\n",
        "srednia_tagow_sci_fi_bez_zerowych = z_tagami['liczba tagów'].mean()\n",
        "plt.axhline(y = srednia_tagow_sci_fi_bez_zerowych, color='r', linestyle='--', lw = 3)\n",
        "\n",
        "plt.savefig('/content/wykresy/liczba-tagow-na-ksiazke_bez_zerowych.png', transparent = True, bbox_inches = \"tight\"  )\n"
      ],
      "metadata": {
        "id": "Wrl_aIj__QL-"
      },
      "execution_count": null,
      "outputs": []
    },
    {
      "cell_type": "markdown",
      "source": [
        "# Jak wygląda budowa tagów z punktu występowania wyrażeń wielowyrazowych?"
      ],
      "metadata": {
        "id": "U15kpmeKrD5I"
      }
    },
    {
      "cell_type": "markdown",
      "source": [
        "Funkcja do obliczania liczby wyrazow w tagu z założeniem, że maksymalna liczba słów to 4."
      ],
      "metadata": {
        "id": "b6s4J8s1vnZH"
      }
    },
    {
      "cell_type": "code",
      "source": [
        "#kolumna_tagi jest listą lub pd.Series\n",
        "def wielowyrazowosc(kolumna_tagi):\n",
        "  jednowyrazowe = []\n",
        "  dwuwyrazowe = []\n",
        "  trzywyrazowe = []\n",
        "  czterowyrazowe = []\n",
        "  pieciowyrazowe = []\n",
        "\n",
        "  for tag in kolumna_tagi:\n",
        "    tag = tag.replace('- ','-') #łączenie myślnika z poprzednim słowem, aby myślnik nie był liczony jako słowo\n",
        "    ile = tag.count(' ')\n",
        "    if ile == 0:\n",
        "      jednowyrazowe.append(tag)\n",
        "    elif ile == 1:\n",
        "      dwuwyrazowe.append(tag)\n",
        "    elif ile == 2:\n",
        "      trzywyrazowe.append(tag)\n",
        "    elif ile == 3:\n",
        "      czterowyrazowe.append(tag)\n",
        "    elif ile == 4:\n",
        "      pieciowyrazowe.append(tag)\n",
        "\n",
        "  rodzaj_tagu = [jednowyrazowe, dwuwyrazowe, trzywyrazowe, czterowyrazowe, pieciowyrazowe]\n",
        "  tagi_liczba_wyrazow = [\"jednowyrazowe\", \"dwuwyrazowe\", \"trzywyrazowe\", \"czterowyrazowe\", \"pięciowyrazowe\"]\n",
        "  liczba_tagow_wielowyrazowosc = [len(jednowyrazowe), len(dwuwyrazowe), len(trzywyrazowe), len(czterowyrazowe), len(pieciowyrazowe)]\n",
        "\n",
        "  wyrazenia_wielowyrazowe = pd.DataFrame(liczba_tagow_wielowyrazowosc, columns = ['liczba tagów'])\n",
        "  wyrazenia_wielowyrazowe.insert(0,'liczba wyrazow w tagu', range(1,6))\n",
        "\n",
        "  return pd.DataFrame(wyrazenia_wielowyrazowe['liczba tagów']).set_index(pd.Series(tagi_liczba_wyrazow))\n"
      ],
      "metadata": {
        "id": "TGJas6EksmiE"
      },
      "execution_count": null,
      "outputs": []
    },
    {
      "cell_type": "code",
      "source": [
        "wszystkie_tagi = tagi_counts_list\n",
        "tagi_unikatowe = liczba_tagow.index\n",
        "\n",
        "wielowyrazowosc_wszystkie_tagi = wielowyrazowosc(wszystkie_tagi)\n",
        "wielowyrazowosc_tagi_unikatowe = wielowyrazowosc(tagi_unikatowe)\n",
        "\n",
        "print(f'''\n",
        "Rozkład dla wszystkich tagów w zbiorze:\n",
        "\n",
        "{wielowyrazowosc_wszystkie_tagi}\n",
        "\n",
        "Rozkład dla tagów unikatowych w zbiorze:\n",
        "\n",
        "{wielowyrazowosc_tagi_unikatowe}''')"
      ],
      "metadata": {
        "id": "-c1uh-bVu5bH"
      },
      "execution_count": null,
      "outputs": []
    },
    {
      "cell_type": "code",
      "source": [
        "#kolumna_tagi jest listą lub pd.Series\n",
        "type(liczba_tagow.index)\n",
        "type(tagi_counts_list)"
      ],
      "metadata": {
        "id": "b4MxdMVoyH5G"
      },
      "execution_count": null,
      "outputs": []
    },
    {
      "cell_type": "markdown",
      "source": [
        "Wykres - wszystkie tagi"
      ],
      "metadata": {
        "id": "k6JvIg9dxu3n"
      }
    },
    {
      "cell_type": "code",
      "source": [
        "wielowyrazowosc_wszystkie_tagi.plot.bar(figsize = (12,8),\n",
        "                                         color = 'black')\n",
        "plt.xticks(rotation = 10, fontsize = 15)\n",
        "plt.yticks(fontsize = 15)\n",
        "liczby_nad_slupkami(wielowyrazowosc_wszystkie_tagi['liczba tagów'], 0.05, 0.1, 0.15, 20)\n",
        "\n",
        "plt.title(label = \"Liczba tagów w zależności od liczby wyrazów \\n\", fontsize= 15)\n",
        "plt.savefig('/content/wykresy/tagi-wyrazenia-wielowyrazowe.png', transparent = True, bbox_inches = \"tight\") #png zapisuje się automatycznie w plikach "
      ],
      "metadata": {
        "id": "TNdRIHIhxMPP"
      },
      "execution_count": null,
      "outputs": []
    },
    {
      "cell_type": "markdown",
      "source": [
        "Wykres - tagi unikatowe"
      ],
      "metadata": {
        "id": "mP5kUTQxxwqu"
      }
    },
    {
      "cell_type": "code",
      "source": [
        "wielowyrazowosc_tagi_unikatowe.plot.bar(figsize = (12,8),\n",
        "                                        color = 'black')\n",
        "plt.xticks(rotation = 10, fontsize = 15)\n",
        "plt.yticks(fontsize = 15)\n",
        "liczby_nad_slupkami(wielowyrazowosc_tagi_unikatowe['liczba tagów'], 0.05, 0.1, 0.15, 20)\n",
        "\n",
        "plt.title(label = \"Liczba tagów w zależności od liczby wyrazów dla unikatowych tagów \\n\", fontsize= 15)\n",
        "plt.savefig('/content/wykresy/tagi-wyrazenia-wielowyrazowe-unikaty.png', transparent = True, bbox_inches = \"tight\")"
      ],
      "metadata": {
        "id": "9y-gIMbFx3_y"
      },
      "execution_count": null,
      "outputs": []
    },
    {
      "cell_type": "markdown",
      "source": [
        "# Jaki charakter mają tagi (nazwy własne, nazwy pospolite, skróty)?"
      ],
      "metadata": {
        "id": "zKjPwB3Ihj97"
      }
    },
    {
      "cell_type": "code",
      "source": [
        "pattern_wlasne = \"[[:upper:]][a-z]+\"\n",
        "pattern_skroty = \"[[:upper:]]{2,}\"\n",
        "\n",
        "nazwy_wlasne = []\n",
        "nazwy_pospolite = []\n",
        "skroty = []\n",
        "\n",
        "def charakter(dane):\n",
        "  for tag in dane:\n",
        "    if re.match(pattern_wlasne, str(tag)):\n",
        "      nazwy_wlasne.append(tag)\n",
        "    elif re.match(pattern_skroty, str(tag)):\n",
        "      skroty.append(tag)\n",
        "    else:\n",
        "      nazwy_pospolite.append(tag)\n",
        "\n",
        "  return print(f'''\n",
        "  Nazwy własne: {len(nazwy_wlasne)}\n",
        "  Nazwy pospolite: {len(nazwy_pospolite)}\n",
        "  Skróty: {len(skroty)} {skroty}''')\n"
      ],
      "metadata": {
        "id": "4OuUlhjIhlYS"
      },
      "execution_count": null,
      "outputs": []
    },
    {
      "cell_type": "code",
      "source": [
        "charakter(tagi_unikatowe)"
      ],
      "metadata": {
        "id": "TIKpT8W-Zf05"
      },
      "execution_count": null,
      "outputs": []
    },
    {
      "cell_type": "code",
      "source": [
        "charakter(wszystkie_tagi)"
      ],
      "metadata": {
        "id": "ycOmMf6EakZB"
      },
      "execution_count": null,
      "outputs": []
    }
  ]
}